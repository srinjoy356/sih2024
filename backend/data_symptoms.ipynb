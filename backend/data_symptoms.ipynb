{
 "cells": [
  {
   "cell_type": "code",
   "execution_count": 2,
   "id": "9eb45e5c-d0f4-434f-a6b7-bc06bc8df892",
   "metadata": {},
   "outputs": [],
   "source": [
    "from pytrends.request import TrendReq\n",
    "import pandas as pd\n",
    "import time\n",
    "\n",
    "# Define medical symptoms to search (limit to 5 per request)\n",
    "symptoms1 = [\"itching\", \"skin rash\", \"continuous sneezing\", \"shivering\", \"chills\"]\n",
    "\n",
    "symptoms2 = [\"headache\", \"vomiting\", \"cough\", \"fever\", \"muscle pain\"]\n",
    "\n",
    "\n",
    "\n",
    "\n",
    "\n",
    "# Get global data (no specific region, so we set geo='')\n",
    "# def top_5_global():\n",
    "#     global_interest = get_symptom_data('')\n",
    "#     print(\"Top 5 most searched symptoms globally:\")\n",
    "#     top_5_global = global_interest.head(5)\n",
    "#     print(top_5_global)\n",
    "#     return top_5_global\n",
    "\n",
    "# Get data by Indian states after building the payload\n",
    "# def get_region_interest():\n",
    "#     pytrends = TrendReq(hl='en-US', tz=360)\n",
    "#     pytrends.build_payload(symptoms1, cat=0, timeframe='today 1-m', geo='IN', gprop='')\n",
    "#     region_interest = pytrends.interest_by_region(resolution='REGION', inc_low_vol=True, inc_geo_code=False)\n",
    "#     return region_interest\n",
    "\n",
    "# Print top 5 symptoms globally\n",
    "# top_5_global()\n",
    "\n",
    "# Print symptom interest by Indian states\n",
    "# region_interest = get_region_interest()\n",
    "# print(\"\\nSymptom interest by Indian states:\")\n",
    "# print(region_interest.head())  # Adjust .head() to view more regions if needed\n"
   ]
  },
  {
   "cell_type": "code",
   "execution_count": 3,
   "id": "79c26b71-5d22-4914-967c-3675399ae33a",
   "metadata": {},
   "outputs": [],
   "source": [
    "# Function to get data for a specific region (e.g., 'IN' for India or '' for global)\n",
    "def get_symptom_data(region_code, symptoms):\n",
    "    # Refresh the session to avoid cache issues\n",
    "    pytrends = TrendReq(hl='en-US', tz=360)\n",
    "    pytrends.build_payload(symptoms, cat=0, timeframe='today 1-m', geo=region_code, gprop='')\n",
    "    symptom_data = pytrends.interest_over_time()\n",
    "    # Remove 'isPartial' column if exists\n",
    "    symptom_data = symptom_data.drop(columns=['isPartial'], errors='ignore')\n",
    "    # Sum up search values over time to get the total interest for each symptom\n",
    "    total_interest = symptom_data.sum().sort_values(ascending=False)\n",
    "    return total_interest\n"
   ]
  },
  {
   "cell_type": "code",
   "execution_count": 9,
   "id": "84019610-2ad4-4387-b98d-9c91c5e67a7a",
   "metadata": {},
   "outputs": [],
   "source": [
    "# Get data for India (by Indian states)\n",
    "def top_10_indian():\n",
    "    india_interest1 = get_symptom_data('IN', symptoms=symptoms1)\n",
    "    time.sleep(5)  # Add delay between requests\n",
    "    india_interest2 = get_symptom_data('IN', symptoms=symptoms2)\n",
    "    print(\"Top 10 most searched symptoms in India:\")\n",
    "    top_10_india = pd.concat([india_interest1, india_interest2]).sort_values(ascending=False).head(10)\n",
    "    plt=top_10_india.plot(kind='bar')\n",
    "    print(plt)\n",
    "\n",
    "    return top_10_india"
   ]
  },
  {
   "cell_type": "code",
   "execution_count": 10,
   "id": "34631798-a8c5-48a5-9c8b-01c3e5a72c8a",
   "metadata": {},
   "outputs": [
    {
     "name": "stderr",
     "output_type": "stream",
     "text": [
      "C:\\Users\\Srinjoy Roy\\AppData\\Roaming\\Python\\Python312\\site-packages\\pytrends\\request.py:260: FutureWarning: Downcasting object dtype arrays on .fillna, .ffill, .bfill is deprecated and will change in a future version. Call result.infer_objects(copy=False) instead. To opt-in to the future behavior, set `pd.set_option('future.no_silent_downcasting', True)`\n",
      "  df = df.fillna(False)\n"
     ]
    },
    {
     "name": "stdout",
     "output_type": "stream",
     "text": [
      "Top 10 most searched symptoms in India:\n",
      "Axes(0.125,0.11;0.775x0.77)\n"
     ]
    },
    {
     "name": "stderr",
     "output_type": "stream",
     "text": [
      "C:\\Users\\Srinjoy Roy\\AppData\\Roaming\\Python\\Python312\\site-packages\\pytrends\\request.py:260: FutureWarning: Downcasting object dtype arrays on .fillna, .ffill, .bfill is deprecated and will change in a future version. Call result.infer_objects(copy=False) instead. To opt-in to the future behavior, set `pd.set_option('future.no_silent_downcasting', True)`\n",
      "  df = df.fillna(False)\n"
     ]
    },
    {
     "data": {
      "text/plain": [
       "itching                2838\n",
       "fever                  2797\n",
       "cough                  1400\n",
       "headache                781\n",
       "vomiting                445\n",
       "shivering               360\n",
       "chills                  217\n",
       "skin rash               176\n",
       "muscle pain             152\n",
       "continuous sneezing       4\n",
       "dtype: int64"
      ]
     },
     "execution_count": 10,
     "metadata": {},
     "output_type": "execute_result"
    },
    {
     "data": {
      "image/png": "[encoded data removed]",
      "text/plain": [
       "<Figure size 640x480 with 1 Axes>"
      ]
     },
     "metadata": {},
     "output_type": "display_data"
    }
   ],
   "source": [
    "top_10_indian()"
   ]
  }
 ],
 "metadata": {
  "kernelspec": {
   "display_name": "Python 3 (ipykernel)",
   "language": "python",
   "name": "python3"
  },
  "language_info": {
   "codemirror_mode": {
    "name": "ipython",
    "version": 3
   },
   "file_extension": ".py",
   "mimetype": "text/x-python",
   "name": "python",
   "nbconvert_exporter": "python",
   "pygments_lexer": "ipython3",
   "version": "3.12.5"
  }
 },
 "nbformat": 4,
 "nbformat_minor": 5
}
